{
  "nbformat": 4,
  "nbformat_minor": 0,
  "metadata": {
    "colab": {
      "name": "SimGBS Julia_Colab_Notebook.ipynb",
      "provenance": [],
      "collapsed_sections": [],
      "toc_visible": true
    },
    "kernelspec": {
      "display_name": "Julia",
      "language": "julia",
      "name": "julia"
    },
    "language_info": {
      "file_extension": ".jl",
      "mimetype": "application/julia",
      "name": "julia"
    }
  },
  "cells": [
    {
      "cell_type": "markdown",
      "metadata": {
        "id": "qxAz-9VnvRVa"
      },
      "source": [
        "# Introduction\n",
        "\n",
        "<b>SimGBS</b> is a versatile method of <b>simulating Genotyping-By-Sequencing data (GBS)</b>. It can be implemented with any genome of choice. Users can modify different parameters to customise GBS setting, such as the choice of restriction enzyme and sequencing depth. By taking the gene-drop approach, users can also specify the demographic history and define population structure (by supplying a pedigree file). Like real sequencers, SimGBS will output data into FASTQ format.\n",
        "\n",
        "\n",
        "This notebook is a [general jupyter notebook template](https://colab.research.google.com/github/ageron/julia_notebooks/blob/master/Julia_Colab_Notebook_Template.ipynb) modified to facilitate implementation of [SimGBS](https://github.com/kanji709/SimGBS.jl). For bigger analysis, we strongly recommend running SimGBS in julia directly."
      ]
    },
    {
      "cell_type": "markdown",
      "metadata": {
        "id": "tQ1r1bbb0yBv"
      },
      "source": [
        "\n",
        "\n",
        "# Setting up julia environment\n",
        "\n",
        "## <img src=\"https://github.com/JuliaLang/julia-logo-graphics/raw/master/images/julia-logo-color.png\" height=\"100\" />\n",
        "\n",
        "1. Work on a copy of this notebook: _File_ > _Save a copy in Drive_ (you will need a Google account). Alternatively, you can download the notebook, then upload it to [Colab](https://colab.research.google.com/).\n",
        "\n",
        "3. Execute the following cell (click on it and press Ctrl+Enter) to install Julia and other packages (if needed, update `JULIA_VERSION` and the other parameters). This takes a couple of minutes.\n",
        "4. Reload this page (press Ctrl+R, or ⌘+R, or the F5 key) and continue to the next section.\n",
        "\n",
        "_Notes_:\n",
        "* If your Colab Runtime gets reset (e.g., due to inactivity), repeat steps 2, 3 and 4.\n",
        "* After installation, if you want to change the Julia version or activate/deactivate the GPU, you will need to reset the Runtime: _Runtime_ > _Factory reset runtime_ and repeat steps 3 and 4."
      ]
    },
    {
      "cell_type": "code",
      "metadata": {
        "id": "GIeFXS0F0zww",
        "colab": {
          "base_uri": "https://localhost:8080/"
        },
        "outputId": "0ca4f91e-7c94-4848-8ea2-e4358fd1416f"
      },
      "source": [
        "%%shell\n",
        "set -e\n",
        "\n",
        "#---------------------------------------------------#\n",
        "JULIA_VERSION=\"1.5.3\" # any version ≥ 0.7.0\n",
        "JULIA_PACKAGES=\"IJulia BenchmarkTools Plots\"\n",
        "JULIA_PACKAGES_IF_GPU=\"CUDA\" # or CuArrays for older Julia versions\n",
        "JULIA_NUM_THREADS=2\n",
        "#---------------------------------------------------#\n",
        "\n",
        "if [ -n \"$COLAB_GPU\" ] && [ -z `which julia` ]; then\n",
        "  # Install Julia\n",
        "  JULIA_VER=`cut -d '.' -f -2 <<< \"$JULIA_VERSION\"`\n",
        "  echo \"Installing Julia $JULIA_VERSION on the current Colab Runtime...\"\n",
        "  BASE_URL=\"https://julialang-s3.julialang.org/bin/linux/x64\"\n",
        "  URL=\"$BASE_URL/$JULIA_VER/julia-$JULIA_VERSION-linux-x86_64.tar.gz\"\n",
        "  wget -nv $URL -O /tmp/julia.tar.gz # -nv means \"not verbose\"\n",
        "  tar -x -f /tmp/julia.tar.gz -C /usr/local --strip-components 1\n",
        "  rm /tmp/julia.tar.gz\n",
        "\n",
        "  # Install Packages\n",
        "  if [ \"$COLAB_GPU\" = \"1\" ]; then\n",
        "      JULIA_PACKAGES=\"$JULIA_PACKAGES $JULIA_PACKAGES_IF_GPU\"\n",
        "  fi\n",
        "  for PKG in `echo $JULIA_PACKAGES`; do\n",
        "    echo \"Installing Julia package $PKG...\"\n",
        "    julia -e 'using Pkg; pkg\"add '$PKG'; precompile;\"' &> /dev/null\n",
        "  done\n",
        "\n",
        "  # Install kernel and rename it to \"julia\"\n",
        "  echo \"Installing IJulia kernel...\"\n",
        "  julia -e 'using IJulia; IJulia.installkernel(\"julia\", env=Dict(\n",
        "      \"JULIA_NUM_THREADS\"=>\"'\"$JULIA_NUM_THREADS\"'\"))'\n",
        "  KERNEL_DIR=`julia -e \"using IJulia; print(IJulia.kerneldir())\"`\n",
        "  KERNEL_NAME=`ls -d \"$KERNEL_DIR\"/julia*`\n",
        "  mv -f $KERNEL_NAME \"$KERNEL_DIR\"/julia  \n",
        "\n",
        "  echo ''\n",
        "  echo \"Success! Please reload this page and jump to the next section.\"\n",
        "fi"
      ],
      "execution_count": null,
      "outputs": [
        {
          "output_type": "stream",
          "text": [
            "Installing Julia 1.5.3 on the current Colab Runtime...\n",
            "2021-06-15 08:05:56 URL:https://storage.googleapis.com/julialang2/bin/linux/x64/1.5/julia-1.5.3-linux-x86_64.tar.gz [105260711/105260711] -> \"/tmp/julia.tar.gz\" [1]\n",
            "Installing Julia package IJulia...\n",
            "Installing Julia package BenchmarkTools...\n",
            "Installing Julia package Plots...\n",
            "Installing IJulia kernel...\n",
            "\u001b[36m\u001b[1m[ \u001b[22m\u001b[39m\u001b[36m\u001b[1mInfo: \u001b[22m\u001b[39mInstalling julia kernelspec in /root/.local/share/jupyter/kernels/julia-1.5\n",
            "\n",
            "Success! Please reload this page and jump to the next section.\n"
          ],
          "name": "stdout"
        },
        {
          "output_type": "execute_result",
          "data": {
            "text/plain": [
              ""
            ]
          },
          "metadata": {
            "tags": []
          },
          "execution_count": 1
        }
      ]
    },
    {
      "cell_type": "markdown",
      "metadata": {
        "id": "-OS3Ac017T1i"
      },
      "source": [
        "# Checking the julia Installation\n",
        "The `versioninfo()` function should print your Julia version and some other info about the system:"
      ]
    },
    {
      "cell_type": "code",
      "metadata": {
        "id": "EEzvvzCl1i0F",
        "colab": {
          "base_uri": "https://localhost:8080/"
        },
        "outputId": "29907298-9cf6-4864-f77c-74b0c7f093bc"
      },
      "source": [
        "versioninfo()"
      ],
      "execution_count": null,
      "outputs": [
        {
          "output_type": "stream",
          "text": [
            "Julia Version 1.5.3\n",
            "Commit 788b2c77c1 (2020-11-09 13:37 UTC)\n",
            "Platform Info:\n",
            "  OS: Linux (x86_64-pc-linux-gnu)\n",
            "  CPU: AMD EPYC 7B12\n",
            "  WORD_SIZE: 64\n",
            "  LIBM: libopenlibm\n",
            "  LLVM: libLLVM-9.0.1 (ORCJIT, znver2)\n",
            "Environment:\n",
            "  JULIA_NUM_THREADS = 2\n"
          ],
          "name": "stdout"
        }
      ]
    },
    {
      "cell_type": "code",
      "metadata": {
        "id": "yQlpeR9wNOi8",
        "colab": {
          "base_uri": "https://localhost:8080/"
        },
        "outputId": "353f09c8-11ab-4b5d-fc8e-a5d180a9b9b1"
      },
      "source": [
        "using BenchmarkTools\n",
        "\n",
        "M = rand(2048, 2048)\n",
        "@benchmark M^2"
      ],
      "execution_count": null,
      "outputs": [
        {
          "output_type": "execute_result",
          "data": {
            "text/plain": [
              "BenchmarkTools.Trial: \n",
              "  memory estimate:  32.00 MiB\n",
              "  allocs estimate:  2\n",
              "  --------------\n",
              "  minimum time:     404.867 ms (0.00% GC)\n",
              "  median time:      419.541 ms (0.11% GC)\n",
              "  mean time:        431.297 ms (4.29% GC)\n",
              "  maximum time:     513.695 ms (20.34% GC)\n",
              "  --------------\n",
              "  samples:          12\n",
              "  evals/sample:     1"
            ]
          },
          "metadata": {
            "tags": []
          },
          "execution_count": 3
        }
      ]
    },
    {
      "cell_type": "code",
      "metadata": {
        "id": "XciCcMAJOT3_"
      },
      "source": [
        "if ENV[\"COLAB_GPU\"] == \"1\"\n",
        "    using CUDA\n",
        "\n",
        "    M_gpu = cu(M)\n",
        "    @benchmark CUDA.@sync M_gpu^2\n",
        "else\n",
        "    println(\"No GPU found.\")\n",
        "end"
      ],
      "execution_count": null,
      "outputs": []
    },
    {
      "cell_type": "markdown",
      "metadata": {
        "id": "8WEYxeaheOuE"
      },
      "source": [
        "# Install SimGBS"
      ]
    },
    {
      "cell_type": "code",
      "metadata": {
        "id": "SQjQso-hUswn",
        "colab": {
          "base_uri": "https://localhost:8080/"
        },
        "outputId": "44bb1252-23c3-4e9a-be28-61a3617d77c7"
      },
      "source": [
        " import Pkg;Pkg.add(\"SimGBS\")"
      ],
      "execution_count": 2,
      "outputs": [
        {
          "output_type": "stream",
          "text": [
            "\u001b[32m\u001b[1m  Resolving\u001b[22m\u001b[39m package versions...\n",
            "\u001b[32m\u001b[1mNo Changes\u001b[22m\u001b[39m to `~/.julia/environments/v1.5/Project.toml`\n",
            "\u001b[32m\u001b[1mNo Changes\u001b[22m\u001b[39m to `~/.julia/environments/v1.5/Manifest.toml`\n"
          ],
          "name": "stderr"
        }
      ]
    },
    {
      "cell_type": "code",
      "metadata": {
        "id": "8GtWdbeJjWwf"
      },
      "source": [
        "cd(\"/content\")"
      ],
      "execution_count": null,
      "outputs": []
    },
    {
      "cell_type": "markdown",
      "metadata": {
        "id": "mf3XeOc68K_e"
      },
      "source": [
        "# Import SimGBS"
      ]
    },
    {
      "cell_type": "code",
      "metadata": {
        "colab": {
          "base_uri": "https://localhost:8080/"
        },
        "id": "juev2dBvCfIO",
        "outputId": "26b1c89c-21c1-4100-d6d3-0b69cdb08887"
      },
      "source": [
        "using SimGBS"
      ],
      "execution_count": 3,
      "outputs": [
        {
          "output_type": "stream",
          "text": [
            "┌ Info: Precompiling SimGBS [92ef5d18-3a1f-4c68-9409-006e7edfe355]\n",
            "└ @ Base loading.jl:1278\n"
          ],
          "name": "stderr"
        }
      ]
    },
    {
      "cell_type": "markdown",
      "metadata": {
        "id": "lCNY-beLAc8v"
      },
      "source": [
        "# Download example data"
      ]
    },
    {
      "cell_type": "code",
      "metadata": {
        "id": "xuRxZxc58m6x",
        "colab": {
          "base_uri": "https://localhost:8080/"
        },
        "outputId": "da8a437b-acbe-4849-ff7a-802d81f5796d"
      },
      "source": [
        "download(\"https://github.com/kanji709/SimGBS.jl/raw/master/example/ref.fa.gz\",\"ref.fa.gz\")\n",
        "download(\"https://github.com/kanji709/SimGBS.jl/raw/master/example/GBS_Barcodes.txt\",\"GBS_Barcodes.txt\")\n",
        "readdir()"
      ],
      "execution_count": 4,
      "outputs": [
        {
          "output_type": "execute_result",
          "data": {
            "text/plain": [
              "4-element Array{String,1}:\n",
              " \".config\"\n",
              " \"GBS_Barcodes.txt\"\n",
              " \"ref.fa.gz\"\n",
              " \"sample_data\""
            ]
          },
          "metadata": {
            "tags": []
          },
          "execution_count": 4
        }
      ]
    },
    {
      "cell_type": "markdown",
      "metadata": {
        "id": "LIpRedhNyvIy"
      },
      "source": [
        "# Run SimGBS example"
      ]
    },
    {
      "cell_type": "markdown",
      "metadata": {
        "id": "7OHSrJ8Nyjhy"
      },
      "source": [
        "The code below can be found in [example.jl](https://github.com/kanji709/SimGBS.jl/tree/master/example)"
      ]
    },
    {
      "cell_type": "code",
      "metadata": {
        "colab": {
          "base_uri": "https://localhost:8080/"
        },
        "id": "3xKWqNLKyg-G",
        "outputId": "f9795645-515a-41b5-a765-78e34b759722"
      },
      "source": [
        "## parameters\n",
        "### Step One: Generate GBS Fragments\n",
        "genofile = \"ref.fa.gz\"\n",
        "re = [SimGBS.ApeKI]; # specify the restriction enzyme to be used for virtual digestion\n",
        "useChr = [1]; # specify either the number of chromosome(s) or a set of chromosome(s) to be used for simulating GBS data\n",
        "useChrLen = Array{Float64}(undef, 0); # specify the length of chromsome(s) in cM to be simulated, otherwise using the entire chromosome\n",
        "lower = 65; # lower bound of fragment size selection\n",
        "upper = 195; # upper bound of fragment size selection\n",
        "winSize = 1000000 # window size to be used to sample SNP density\n",
        "\n",
        "### Step Two: Define Population Structure\n",
        "numFounders = 100; # number of founders in the base population\n",
        "endSize = 1000; # number of individuals to end up in the changingPopSize step\n",
        "numGenCha = 20; # number of generations for changingPopSize function \n",
        "numGenCon = 50; # number of generations for constantPopSize function \n",
        "numGenFinal = 4; # number of final generations to be used to select individual \n",
        "numInd = 96; # number of individuals to be simulated\n",
        "useWeights = Array{Float64}(undef, 0) # weights of each of contributing genetarion in the fianal population composition \n",
        "usePedigree = false;  # false if you don't use pedigree, otherwise specify the pedigree file to be used\n",
        "pedFile = \"newPed.ped\"; # file stores the pedigree (default = \"sim.ped\")\n",
        "pedOutput = false; # true if print out pedigree (default = false)\n",
        "\n",
        "### Step Three: Simulate GBS Process\n",
        "totalQTL = 100 # total (across all chromosomes) number of QTLs to be simulated\n",
        "totalSNP = 0 # total (across all chromosomes) number of QTLs to be simulated, set [totalSNP = 0] if sampling based on density\n",
        "muDensity = -2.0 # location parameter of log-Laplace distribution (for sampling SNP density)\n",
        "sigmasqDensity = 0.001 # scale parameter of log-Laplace distribution (for sampling SNP density)\n",
        "winSize = 1000000 # window size to be used to sample SNP density\n",
        "muAlleleFreq = 0.5 # mean of sampled allele frequency\n",
        "sigmasqAlleleFreq = 0.0061 # variance of sampled allele frequency\n",
        "meanDepth = 20.0 # expected sequencing depth\n",
        "barcodeFile = \"GBS_Barcodes.txt\" # file contains GBS barcodes\n",
        "useChr = [1]; # specify either the number of chromosome(s) or a set of chromosome(s) to be used for simulating GBS data \n",
        "\n",
        "### miscellaneous\n",
        "plotOutput = true; # true if plots are required\n",
        "writeOutput = true; # true if outputs in text file are required\n",
        "onlyOutputGBS = true; # true if only GBS data is required\n",
        "\n",
        "## Run SimGBS\n",
        "### Step One: Generate GBS Fragments\n",
        "@time digestGenome(\n",
        "    genofile,\n",
        "    re,\n",
        "    useChr,\n",
        "    useChrLen,\n",
        "    lower,\n",
        "    upper,\n",
        "    winSize,\n",
        "    plotOutput,\n",
        "    writeOutput,\n",
        ");\n",
        "\n",
        "### Step Two: Define Population Structure\n",
        "@time definePopulation(\n",
        "    numFounders,\n",
        "    endSize,\n",
        "    numGenCha,\n",
        "    numGenCon,\n",
        "    numGenFinal,\n",
        "    numInd,\n",
        "    useWeights,\n",
        "    usePedigree,\n",
        "    pedFile,\n",
        "    pedOutput,\n",
        ");\n",
        "\n",
        "### Step Three: Simulate GBS Process\n",
        "@time GBS(\n",
        "    totalQTL,\n",
        "    totalSNP,\n",
        "    muDensity,\n",
        "    sigmasqDensity,\n",
        "    winSize,\n",
        "    muAlleleFreq,\n",
        "    sigmasqAlleleFreq,\n",
        "    re,\n",
        "    meanDepth,\n",
        "    barcodeFile,\n",
        "    useChr,\n",
        "    plotOutput,\n",
        "    writeOutput,\n",
        "    onlyOutputGBS,\n",
        ");\n"
      ],
      "execution_count": 5,
      "outputs": [
        {
          "output_type": "stream",
          "text": [
            "INFO: Using chromsome [1] in the simulation!\n",
            "CHROMOSOME 1: 1800 GBS fragments are generated through virtual digestion using ApeKI.\n",
            "CHROMOSOME 1: Estimated chromosome length equals to 0.999602 Mb.\n",
            "CHROMOSOME 1: Subsetting chromosome is not required. Keeping all 1800 available GBS fragments.\n",
            "INFO: 354 out of 1800 GBS fragments are selected after size-selection with lower and upper thresholds equals to [65, 195].\n",
            "INFO: Expected sequencing coverage based on 354 selected GBS fragments is approximately 4.56%.\n"
          ],
          "name": "stdout"
        },
        {
          "output_type": "stream",
          "text": [
            "┌ Info: Precompiling GR_jll [d2c73de3-f751-5644-a686-071e5b155ba9]\n",
            "└ @ Base loading.jl:1278\n"
          ],
          "name": "stderr"
        },
        {
          "output_type": "stream",
          "text": [
            "133.091351 seconds (55.75 M allocations: 2.805 GiB, 0.93% gc time)\n",
            "CHANING POP SIZE GEN 10: Done!\n",
            "CHANING POP SIZE GEN 20: Done!\n",
            "CONSTANT POP SIZE GEN 10: Done\n",
            "CONSTANT POP SIZE GEN 20: Done\n",
            "CONSTANT POP SIZE GEN 30: Done\n",
            "CONSTANT POP SIZE GEN 40: Done\n",
            "INFO: Collecting 28 individual at Gen 47\n",
            "INFO: Collecting 16 individual at Gen 48\n",
            "INFO: Collecting 27 individual at Gen 49\n",
            "INFO: Collecting 25 individual at Gen 50\n",
            "  4.688148 seconds (10.76 M allocations: 522.343 MiB, 13.10% gc time)\n",
            "INFO: A total of 100 QTLs are sampled randomly across 1 chromosome(s).\n",
            "CHROMOSOME 1: 201655 SNPs sampled with average SNP density = 0.135 (window size = 1000000 bp).\n",
            "CHROMOSOME 1: Found 8988 SNPs on 354 GBS fragments, with an average of 25.39 SNPs per GBS fragment.\n",
            "[INFO]: a total of 201655 SNPs were sampled.\n",
            "[INFO]: 8988 SNPs captured by selected GBS SNPs.\n",
            "CHROMOSOME 1: Filling haplotypes!\n",
            "CHROMOSOME 1: DONE!\n",
            "  2.311320 seconds (16.46 M allocations: 696.797 MiB, 7.63% gc time)\n",
            "[INFO] On Lane 1 of Flowcell ABC12AAXX: Average GBS read depth equals to 21.65.\n",
            "[INFO] On Lane 1 of Flowcell ABC12AAXX: Generating GBS data for 96 samples.\n",
            "INFO: A total of 735861 GBS reads genertaed.\n",
            " 30.432588 seconds (84.28 M allocations: 4.455 GiB, 5.89% gc time)\n"
          ],
          "name": "stdout"
        }
      ]
    },
    {
      "cell_type": "markdown",
      "metadata": {
        "id": "QbHhApuJzyzJ"
      },
      "source": [
        "# Outputs\n",
        "\n",
        "<b>GBS Fragments</b>\n",
        "\n",
        "- RawFrag.txt: raw GBS fragments following in slico digestion\n",
        "- GBSFrag.txt: selected GBS fragments after fragment size-selection\n",
        "- GBSCoverage.txt: genomic coverage of GBS fragments\n",
        "- snpFragGBS.txt: GBS fragments that contains SNPs\n",
        "\n",
        "<b>Variants</b>\n",
        "\n",
        "- qtlGeno.txt: QTL genotype (number of individual x number of QTL loci)\n",
        "- snpGeno.txt: SNP genotypes (number of individual x number of QTL loci)\n",
        "- qtlInfo.txt: information about QTL, including chromosome, position and allele frequency\n",
        "- snpInfo.txt: information about SNPs, including chromosome, position and allele frequency\n",
        "- shortHap.txt: short-haplotype created by GBS fragments (i.e., SNPs captured within each GBS fragment)\n",
        "- readDepth.txt: number of copies per GBS fragment\n",
        "\n",
        "<b>GBS Data</b>\n",
        "\n",
        "- keyFileABC12AAXX1.txt: pseudo-information about GBS sample, including flowcell, lane, barcode, sample name, plate, row and column\n",
        "- ABC12AAXX1fastq.txt.gz: simulated GBS sequences"
      ]
    },
    {
      "cell_type": "code",
      "metadata": {
        "colab": {
          "base_uri": "https://localhost:8080/"
        },
        "id": "Biq8y1O9z1_M",
        "outputId": "1188e163-a9c8-4195-9dc6-433e30e3b86b"
      },
      "source": [
        "readdir() # see outputs"
      ],
      "execution_count": 7,
      "outputs": [
        {
          "output_type": "execute_result",
          "data": {
            "text/plain": [
              "23-element Array{String,1}:\n",
              " \".config\"\n",
              " \"ABC12AAXX_1_fastq.txt.gz\"\n",
              " \"GBSCoverage.png\"\n",
              " \"GBSCoverage.txt\"\n",
              " \"GBSFrag.txt\"\n",
              " \"GBSFragSize.png\"\n",
              " \"GBS_Barcodes.txt\"\n",
              " \"RawFrag.txt\"\n",
              " \"RawFragSize.png\"\n",
              " \"keyFile_ABC12AAXX_1.txt\"\n",
              " \"qtlAF.png\"\n",
              " \"qtlGeno.txt\"\n",
              " \"qtlInfo.txt\"\n",
              " \"readDepth.txt\"\n",
              " \"ref.fa.gz\"\n",
              " \"sample_data\"\n",
              " \"shortHap.txt\"\n",
              " \"snpAF.png\"\n",
              " \"snpDepth.txt\"\n",
              " \"snpFragGBS.txt\"\n",
              " \"snpGeno.txt\"\n",
              " \"snpInfo.txt\"\n",
              " \"snpPerTag.png\""
            ]
          },
          "metadata": {
            "tags": []
          },
          "execution_count": 7
        }
      ]
    },
    {
      "cell_type": "markdown",
      "metadata": {
        "id": "RysQhxoG0Rph"
      },
      "source": [
        "# Available functions"
      ]
    },
    {
      "cell_type": "markdown",
      "metadata": {
        "id": "35qmTm068k-d"
      },
      "source": [
        "## Define genome"
      ]
    },
    {
      "cell_type": "code",
      "metadata": {
        "colab": {
          "base_uri": "https://localhost:8080/"
        },
        "id": "LpqazpM78xrn",
        "outputId": "94cd89f7-e9a6-4cd9-91af-c326c70ee3be"
      },
      "source": [
        "digestGenome(\"ref.fa.gz\", [SimGBS.ApeKI], [1], Array{Float64}(undef,0), 65 ,195, 1000000, false, true)"
      ],
      "execution_count": null,
      "outputs": [
        {
          "output_type": "stream",
          "text": [
            "INFO: Using chromsome [1] in the simulation!\n",
            "CHROMOSOME 1: 1800 GBS fragments are generated through virtual digestion using ApeKI.\n",
            "CHROMOSOME 1: Estimated chromosome length equals to 0.999602 Mb.\n",
            "CHROMOSOME 1: Subsetting chromosome is not required. Keeping all 1800 available GBS fragments.\n",
            "INFO: 354 out of 1800 GBS fragments are selected after size-selection with lower and upper thresholds equals to [65, 195].\n",
            "INFO: Expected sequencing coverage based on 354 selected GBS fragments is approximately 4.56%.\n"
          ],
          "name": "stdout"
        }
      ]
    },
    {
      "cell_type": "markdown",
      "metadata": {
        "id": "WQ03pNJrBTL1"
      },
      "source": [
        "## Define population"
      ]
    },
    {
      "cell_type": "code",
      "metadata": {
        "colab": {
          "base_uri": "https://localhost:8080/"
        },
        "id": "tzPfHcGPKnvo",
        "outputId": "2de6e620-2b4c-49d1-cbfd-864922e39f28"
      },
      "source": [
        " definePopulation(100, 500, 20, 100, 4, 96,  Array{Float64}(undef,0), false, \"sim.ped\", false);"
      ],
      "execution_count": null,
      "outputs": [
        {
          "output_type": "stream",
          "text": [
            "CHANING POP SIZE GEN 10: Done!\n",
            "CHANING POP SIZE GEN 20: Done!\n",
            "CONSTANT POP SIZE GEN 10: Done\n",
            "CONSTANT POP SIZE GEN 20: Done\n",
            "CONSTANT POP SIZE GEN 30: Done\n",
            "CONSTANT POP SIZE GEN 40: Done\n",
            "CONSTANT POP SIZE GEN 50: Done\n",
            "CONSTANT POP SIZE GEN 60: Done\n",
            "CONSTANT POP SIZE GEN 70: Done\n",
            "CONSTANT POP SIZE GEN 80: Done\n",
            "CONSTANT POP SIZE GEN 90: Done\n",
            "INFO: Collecting 20 individual at Gen 97\n",
            "INFO: Collecting 29 individual at Gen 98\n",
            "INFO: Collecting 29 individual at Gen 99\n",
            "INFO: Collecting 18 individual at Gen 100\n"
          ],
          "name": "stdout"
        }
      ]
    },
    {
      "cell_type": "markdown",
      "metadata": {
        "id": "ogbns76oL38M"
      },
      "source": [
        "## GBS"
      ]
    },
    {
      "cell_type": "code",
      "metadata": {
        "colab": {
          "base_uri": "https://localhost:8080/"
        },
        "id": "sNI-efDaL-ht",
        "outputId": "09a76407-deb9-4beb-fd07-4534b58d5186"
      },
      "source": [
        "GBS(100, 0, -2.0, 0.001, 1000000, 0.5, 0.001, [SimGBS.ApeKI], 20.0, \"GBS_Barcodes.txt\", [1], false, true, true)"
      ],
      "execution_count": 6,
      "outputs": [
        {
          "output_type": "stream",
          "text": [
            "INFO: A total of 100 QTLs are sampled randomly across 1 chromosome(s).\n",
            "CHROMOSOME 1: 203470 SNPs sampled with average SNP density = 0.135 (window size = 1000000 bp).\n",
            "CHROMOSOME 1: Found 9131 SNPs on 354 GBS fragments, with an average of 25.79 SNPs per GBS fragment.\n",
            "[INFO]: a total of 203470 SNPs were sampled.\n",
            "[INFO]: 9131 SNPs captured by selected GBS SNPs.\n",
            "CHROMOSOME 1: Filling haplotypes!\n",
            "CHROMOSOME 1: DONE!\n",
            "  1.741354 seconds (15.84 M allocations: 662.936 MiB, 19.60% gc time)\n",
            "[INFO] On Lane 1 of Flowcell ABC12AAXX: Average GBS read depth equals to 19.07.\n",
            "[INFO] On Lane 1 of Flowcell ABC12AAXX: Generating GBS data for 96 samples.\n",
            "INFO: A total of 648196 GBS reads genertaed.\n"
          ],
          "name": "stdout"
        }
      ]
    },
    {
      "cell_type": "markdown",
      "metadata": {
        "id": "8O5o9VVy0kRc"
      },
      "source": [
        "# Overview\n",
        "\n",
        "For more information, please visit the [documentation](https://kanji709.github.io/SimGBS.jl/dev/) page.\n",
        "\n"
      ]
    },
    {
      "cell_type": "markdown",
      "metadata": {
        "id": "2c0tK96S0yVy"
      },
      "source": [
        "# Citing\n",
        "\n",
        "Please cite the following if you use SimGBS.jl,\n",
        "\n",
        "- Hess, A. S., M. K. Hess, K. G. Dodds, J. C. Mcewan, S. M. Clarke, and S. J. Rowe. \"A method to simulate low-depth genotyping-by-sequencing data for testing genomic analyses.\" Proc 11th World Congr Genet Appl to Livest Prod 385 (2018).\n",
        "\n",
        "\n"
      ]
    },
    {
      "cell_type": "markdown",
      "metadata": {
        "id": "R9OJ4jUi04vg"
      },
      "source": [
        "# What is next?\n",
        "\n",
        "The following tools are recommended for downstream Analyses of GBS data,\n",
        "\n",
        "[snpGBS](https://github.com/AgResearch/snpGBS): a simple bioinformatics workflow to identify single nucleotide polymorphism (SNP) from Genotyping-by-Sequencing (GBS) data.\n",
        "\n",
        "[KGD](https://github.com/AgResearch/KGD): R code for the analysis of genotyping-by-sequencing (GBS) data, primarily to construct a genomic relationship matrix for the genotyped individuals.\n",
        "\n",
        "[GUSLD](https://github.com/AgResearch/GUS-LD): An R package for estimating linkage disequilibrium using low and/or high coverage sequencing data without requiring filtering with respect to read depth.\n",
        "\n",
        "[SMAP](https://gitlab.com/truttink/smap) a software package that analyzes read mapping distributions and performs haplotype calling to create multi-allelic molecular markers."
      ]
    }
  ]
}
